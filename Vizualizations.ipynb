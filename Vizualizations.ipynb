{
 "cells": [
  {
   "cell_type": "markdown",
   "metadata": {},
   "source": [
    "Is consumer behavior linked to consumer purchasing intention?"
   ]
  },
  {
   "cell_type": "code",
   "execution_count": 1,
   "metadata": {},
   "outputs": [
    {
     "data": {
      "text/html": [
       "<div>\n",
       "<style scoped>\n",
       "    .dataframe tbody tr th:only-of-type {\n",
       "        vertical-align: middle;\n",
       "    }\n",
       "\n",
       "    .dataframe tbody tr th {\n",
       "        vertical-align: top;\n",
       "    }\n",
       "\n",
       "    .dataframe thead th {\n",
       "        text-align: right;\n",
       "    }\n",
       "</style>\n",
       "<table border=\"1\" class=\"dataframe\">\n",
       "  <thead>\n",
       "    <tr style=\"text-align: right;\">\n",
       "      <th></th>\n",
       "      <th>Administrative</th>\n",
       "      <th>Administrative_Duration</th>\n",
       "      <th>Informational</th>\n",
       "      <th>Informational_Duration</th>\n",
       "      <th>ProductRelated</th>\n",
       "      <th>ProductRelated_Duration</th>\n",
       "      <th>BounceRates</th>\n",
       "      <th>ExitRates</th>\n",
       "      <th>PageValues</th>\n",
       "      <th>SpecialDay</th>\n",
       "      <th>Month</th>\n",
       "      <th>OperatingSystems</th>\n",
       "      <th>Browser</th>\n",
       "      <th>Region</th>\n",
       "      <th>TrafficType</th>\n",
       "      <th>VisitorType</th>\n",
       "      <th>Weekend</th>\n",
       "      <th>Revenue</th>\n",
       "    </tr>\n",
       "  </thead>\n",
       "  <tbody>\n",
       "    <tr>\n",
       "      <td>0</td>\n",
       "      <td>0</td>\n",
       "      <td>0.0</td>\n",
       "      <td>0</td>\n",
       "      <td>0.0</td>\n",
       "      <td>1</td>\n",
       "      <td>0.000000</td>\n",
       "      <td>0.20</td>\n",
       "      <td>0.20</td>\n",
       "      <td>0.0</td>\n",
       "      <td>0.0</td>\n",
       "      <td>Feb</td>\n",
       "      <td>1</td>\n",
       "      <td>1</td>\n",
       "      <td>1</td>\n",
       "      <td>1</td>\n",
       "      <td>Returning_Visitor</td>\n",
       "      <td>False</td>\n",
       "      <td>False</td>\n",
       "    </tr>\n",
       "    <tr>\n",
       "      <td>1</td>\n",
       "      <td>0</td>\n",
       "      <td>0.0</td>\n",
       "      <td>0</td>\n",
       "      <td>0.0</td>\n",
       "      <td>2</td>\n",
       "      <td>64.000000</td>\n",
       "      <td>0.00</td>\n",
       "      <td>0.10</td>\n",
       "      <td>0.0</td>\n",
       "      <td>0.0</td>\n",
       "      <td>Feb</td>\n",
       "      <td>2</td>\n",
       "      <td>2</td>\n",
       "      <td>1</td>\n",
       "      <td>2</td>\n",
       "      <td>Returning_Visitor</td>\n",
       "      <td>False</td>\n",
       "      <td>False</td>\n",
       "    </tr>\n",
       "    <tr>\n",
       "      <td>2</td>\n",
       "      <td>0</td>\n",
       "      <td>0.0</td>\n",
       "      <td>0</td>\n",
       "      <td>0.0</td>\n",
       "      <td>1</td>\n",
       "      <td>0.000000</td>\n",
       "      <td>0.20</td>\n",
       "      <td>0.20</td>\n",
       "      <td>0.0</td>\n",
       "      <td>0.0</td>\n",
       "      <td>Feb</td>\n",
       "      <td>4</td>\n",
       "      <td>1</td>\n",
       "      <td>9</td>\n",
       "      <td>3</td>\n",
       "      <td>Returning_Visitor</td>\n",
       "      <td>False</td>\n",
       "      <td>False</td>\n",
       "    </tr>\n",
       "    <tr>\n",
       "      <td>3</td>\n",
       "      <td>0</td>\n",
       "      <td>0.0</td>\n",
       "      <td>0</td>\n",
       "      <td>0.0</td>\n",
       "      <td>2</td>\n",
       "      <td>2.666667</td>\n",
       "      <td>0.05</td>\n",
       "      <td>0.14</td>\n",
       "      <td>0.0</td>\n",
       "      <td>0.0</td>\n",
       "      <td>Feb</td>\n",
       "      <td>3</td>\n",
       "      <td>2</td>\n",
       "      <td>2</td>\n",
       "      <td>4</td>\n",
       "      <td>Returning_Visitor</td>\n",
       "      <td>False</td>\n",
       "      <td>False</td>\n",
       "    </tr>\n",
       "    <tr>\n",
       "      <td>4</td>\n",
       "      <td>0</td>\n",
       "      <td>0.0</td>\n",
       "      <td>0</td>\n",
       "      <td>0.0</td>\n",
       "      <td>10</td>\n",
       "      <td>627.500000</td>\n",
       "      <td>0.02</td>\n",
       "      <td>0.05</td>\n",
       "      <td>0.0</td>\n",
       "      <td>0.0</td>\n",
       "      <td>Feb</td>\n",
       "      <td>3</td>\n",
       "      <td>3</td>\n",
       "      <td>1</td>\n",
       "      <td>4</td>\n",
       "      <td>Returning_Visitor</td>\n",
       "      <td>True</td>\n",
       "      <td>False</td>\n",
       "    </tr>\n",
       "  </tbody>\n",
       "</table>\n",
       "</div>"
      ],
      "text/plain": [
       "   Administrative  Administrative_Duration  Informational  \\\n",
       "0               0                      0.0              0   \n",
       "1               0                      0.0              0   \n",
       "2               0                      0.0              0   \n",
       "3               0                      0.0              0   \n",
       "4               0                      0.0              0   \n",
       "\n",
       "   Informational_Duration  ProductRelated  ProductRelated_Duration  \\\n",
       "0                     0.0               1                 0.000000   \n",
       "1                     0.0               2                64.000000   \n",
       "2                     0.0               1                 0.000000   \n",
       "3                     0.0               2                 2.666667   \n",
       "4                     0.0              10               627.500000   \n",
       "\n",
       "   BounceRates  ExitRates  PageValues  SpecialDay Month  OperatingSystems  \\\n",
       "0         0.20       0.20         0.0         0.0   Feb                 1   \n",
       "1         0.00       0.10         0.0         0.0   Feb                 2   \n",
       "2         0.20       0.20         0.0         0.0   Feb                 4   \n",
       "3         0.05       0.14         0.0         0.0   Feb                 3   \n",
       "4         0.02       0.05         0.0         0.0   Feb                 3   \n",
       "\n",
       "   Browser  Region  TrafficType        VisitorType  Weekend  Revenue  \n",
       "0        1       1            1  Returning_Visitor    False    False  \n",
       "1        2       1            2  Returning_Visitor    False    False  \n",
       "2        1       9            3  Returning_Visitor    False    False  \n",
       "3        2       2            4  Returning_Visitor    False    False  \n",
       "4        3       1            4  Returning_Visitor     True    False  "
      ]
     },
     "execution_count": 1,
     "metadata": {},
     "output_type": "execute_result"
    }
   ],
   "source": [
    "import pandas as pd\n",
    "import matplotlib.pyplot as plt; plt.rcdefaults()\n",
    "import numpy as np\n",
    "import matplotlib.pyplot as plt\n",
    "\n",
    "data = pd.read_csv(\"online_shoppers_intention.csv\")\n",
    "data.head()"
   ]
  },
  {
   "cell_type": "code",
   "execution_count": 30,
   "metadata": {},
   "outputs": [
    {
     "name": "stdout",
     "output_type": "stream",
     "text": [
      "[1.6304347826086956, 10.068169900367069, 10.850178359096315, 10.069444444444445, 15.277777777777779, 17.551963048498845, 19.196428571428573, 20.9471766848816, 25.350233488992664, 12.507237984944991]\n",
      "[98.3695652173913, 89.93183009963293, 89.14982164090368, 89.93055555555556, 84.72222222222223, 82.44803695150115, 80.80357142857143, 79.0528233151184, 74.64976651100733, 87.492762015055]\n"
     ]
    }
   ],
   "source": [
    "Month_Rev = data[['Month','Revenue']]\n",
    "#Feb to Nov\n",
    "\n",
    "#Need to add up all True in each month\n",
    "months = ['Feb','Mar','May','June','Jul','Aug','Sep','Oct','Nov','Dec']\n",
    "months_count =[] #number of samples in each month\n",
    "months_rev = [] # number of TRUE rev \n",
    "months_percent_rev = [] #percent of people who actually bought something \n",
    "months_percent_no_rev = []\n",
    "feb_rev = 0\n",
    "mar_rev = 0\n",
    "#apr_rev = 0\n",
    "may_rev = 0\n",
    "june_rev = 0\n",
    "jul_rev = 0\n",
    "aug_rev = 0\n",
    "sep_rev = 0\n",
    "oct_rev = 0\n",
    "nov_rev = 0\n",
    "dec_rev = 0\n",
    "\n",
    "#print(Month_Rev['Month'][1200]) #exact month at index 1200\n",
    "\n",
    "\n",
    "for i in range(len(months)):\n",
    "    sample_count = 0\n",
    "    rev_count = 0\n",
    "    for j in range(len(Month_Rev)):\n",
    "        if Month_Rev['Month'][j] == months[i]:\n",
    "            sample_count += 1\n",
    "            if Month_Rev['Revenue'][j] == True:\n",
    "                rev_count += 1\n",
    "                \n",
    "    months_count.append(sample_count)\n",
    "    months_rev.append(rev_count)\n",
    "\n",
    "\n",
    "#percent of sales made in each month\n",
    "\n",
    "for k in range(len(months_count)):\n",
    "    \n",
    "    temp_percent = (months_rev[k]/months_count[k]) * 100\n",
    "    months_percent_rev.append(temp_percent)\n",
    "\n",
    "#filling in months_percent_no_rev\n",
    "for l in range(len(months_percent_rev)):\n",
    "    temp_no_rev = 100 - months_percent_rev[l]\n",
    "    months_percent_no_rev.append(temp_no_rev)\n",
    "\n"
   ]
  },
  {
   "cell_type": "code",
   "execution_count": 34,
   "metadata": {},
   "outputs": [
    {
     "data": {
      "text/plain": [
       "[<matplotlib.lines.Line2D at 0x11b9dd090>]"
      ]
     },
     "execution_count": 34,
     "metadata": {},
     "output_type": "execute_result"
    },
    {
     "data": {
      "image/png": "[encoded data removed]",
      "text/plain": [
       "<Figure size 432x288 with 1 Axes>"
      ]
     },
     "metadata": {
      "needs_background": "light"
     },
     "output_type": "display_data"
    }
   ],
   "source": [
    "#PLOT PERCENT SALES OVER MONTHS\n",
    "import matplotlib.pyplot as plt\n",
    "\n",
    "X = months\n",
    "y = months_percent_rev\n",
    "yy = months_percent_no_rev\n",
    "\n",
    "plt.plot(X, y, '-ok', color='blue')\n",
    "plt.plot(X, yy, '-ok', color='blue')"
   ]
  },
  {
   "cell_type": "code",
   "execution_count": 73,
   "metadata": {},
   "outputs": [],
   "source": [
    "admin = data['Administrative']\n",
    "admin_dur = data['Administrative_Duration']\n",
    "\n",
    "info = data['Informational']\n",
    "info_dur = data['Informational_Duration']\n",
    "\n",
    "product = data['ProductRelated']\n",
    "product_dur = data['ProductRelated_Duration']\n",
    "\n",
    "revenue = data['Revenue']\n",
    "\n",
    "\n",
    "\n",
    "avg_product_dur = []\n",
    "avg_info_dur = []\n",
    "avg_admin_dur = []\n",
    "\n",
    "for i in range(len(product)):\n",
    "    if product[i] and info[i] and admin[i] != 0:\n",
    "        temp_avg_prod = product_dur[i]/product[i]\n",
    "        temp_avg_info = info_dur[i]/info[i]\n",
    "        temp_avg_admin = admin_dur[i]/admin[i]\n",
    "        avg_product_dur.append(temp_avg_prod/60)\n",
    "        avg_info_dur.append((round(temp_avg_info/60)))\n",
    "        avg_admin_dur.append(temp_avg_admin/60)\n",
    "    else:\n",
    "        avg_product_dur.append(0)\n",
    "        avg_info_dur.append(0)\n",
    "        avg_admin_dur.append(0)\n",
    "        \n",
    "\n",
    "avg_product_dur_rev = []\n",
    "avg_info_dur_rev = []\n",
    "avg_admin_dur_rev = []\n",
    "for j in range(len(avg_product_dur)):\n",
    "    if revenue[j] == True:\n",
    "        avg_product_dur_rev.append(avg_product_dur[j])\n",
    "        avg_info_dur_rev.append(avg_info_dur[j])\n",
    "        avg_admin_dur_rev.append(avg_admin_dur[j])\n",
    "    \n"
   ]
  },
  {
   "cell_type": "code",
   "execution_count": 74,
   "metadata": {},
   "outputs": [
    {
     "data": {
      "text/plain": [
       "1"
      ]
     },
     "execution_count": 74,
     "metadata": {},
     "output_type": "execute_result"
    }
   ],
   "source": [
    "round(1.2)"
   ]
  },
  {
   "cell_type": "code",
   "execution_count": 75,
   "metadata": {},
   "outputs": [
    {
     "data": {
      "image/png": "[encoded data removed]",
      "text/plain": [
       "<Figure size 432x288 with 1 Axes>"
      ]
     },
     "metadata": {
      "needs_background": "light"
     },
     "output_type": "display_data"
    }
   ],
   "source": [
    "from mpl_toolkits.mplot3d import Axes3D\n",
    "\n",
    "\n",
    "\n",
    "\n",
    "fig = plt.figure()\n",
    "ax = fig.add_subplot(111, projection='3d')\n",
    "\n",
    "\n",
    "\n",
    "\n",
    "\n",
    "        \n",
    "        \n",
    "ax.scatter(avg_product_dur_rev, avg_info_dur_rev, avg_admin_dur_rev, s=50, alpha=0.6, edgecolors='w',c='red')\n",
    "\n",
    "\n",
    "ax.set_xlabel('Product')\n",
    "ax.set_ylabel('Info')\n",
    "ax.set_zlabel('Admin')\n",
    "\n",
    "plt.show()"
   ]
  },
  {
   "cell_type": "code",
   "execution_count": 81,
   "metadata": {},
   "outputs": [
    {
     "data": {
      "text/plain": [
       "Text(0, 0.5, 'admin')"
      ]
     },
     "execution_count": 81,
     "metadata": {},
     "output_type": "execute_result"
    },
    {
     "data": {
      "image/png": "[encoded data removed]",
      "text/plain": [
       "<Figure size 432x288 with 1 Axes>"
      ]
     },
     "metadata": {
      "needs_background": "light"
     },
     "output_type": "display_data"
    }
   ],
   "source": [
    "plt.scatter(avg_info_dur_rev, avg_admin_dur_rev, s=avg_product_dur_rev*100, \n",
    "        c='red')\n",
    "plt.xlabel('info')\n",
    "plt.ylabel('admin')\n",
    "#plt.title('Wine Alcohol Content - Fixed Acidity - Residual Sugar',y=1.05)"
   ]
  },
  {
   "cell_type": "code",
   "execution_count": null,
   "metadata": {},
   "outputs": [],
   "source": []
  }
 ],
 "metadata": {
  "kernelspec": {
   "display_name": "Python 3",
   "language": "python",
   "name": "python3"
  },
  "language_info": {
   "codemirror_mode": {
    "name": "ipython",
    "version": 3
   },
   "file_extension": ".py",
   "mimetype": "text/x-python",
   "name": "python",
   "nbconvert_exporter": "python",
   "pygments_lexer": "ipython3",
   "version": "3.7.4"
  }
 },
 "nbformat": 4,
 "nbformat_minor": 2
}
